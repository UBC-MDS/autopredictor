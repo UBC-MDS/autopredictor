{
 "cells": [
  {
   "cell_type": "markdown",
   "metadata": {},
   "source": [
    "# Example usage\n",
    "\n",
    "To use `autopredictor` in a project:"
   ]
  },
  {
   "cell_type": "code",
   "execution_count": 1,
   "metadata": {},
   "outputs": [
    {
     "name": "stdout",
     "output_type": "stream",
     "text": [
      "0.1.0\n"
     ]
    }
   ],
   "source": [
    "import autopredictor\n",
    "\n",
    "print(autopredictor.__version__)"
   ]
  },
  {
   "cell_type": "code",
   "execution_count": 2,
   "metadata": {},
   "outputs": [],
   "source": [
    "from autopredictor.fit import fit\n",
    "from autopredictor.show_all import show_all\n",
    "from autopredictor.bestscore import display_best_score\n",
    "from autopredictor.select_model import select_model\n",
    "from sklearn.model_selection import train_test_split\n",
    "from sklearn.datasets import load_diabetes"
   ]
  },
  {
   "cell_type": "markdown",
   "metadata": {},
   "source": [
    "## INTRODUCTION"
   ]
  },
  {
   "cell_type": "markdown",
   "metadata": {},
   "source": [
    "In real-life scenarios, like in healthcare, the process of selecting appropriate models, determining relevant metrics, scrutinizing specific models, and ultimately choosing the most suitable model is not only time-consuming but also critical in influencing decision-making and patient outcomes. Our package, autopredictor, is meticulously designed to streamline these aspects of machine learning for continuous data, thereby significantly accelerating the workflow. This acceleration is particularly beneficial for healthcare professionals, data scientists, or researchers, as it allows them to allocate more time towards insightful data interpretation and strategic decision-making. The diabetes dataset showcased in this example serves as a representative sample of real-world health data. The methodology employed in training, evaluating, and selecting models closely parallels the procedural work observed in actual research settings."
   ]
  },
  {
   "cell_type": "code",
   "execution_count": 3,
   "metadata": {},
   "outputs": [],
   "source": [
    "X, y = load_diabetes(return_X_y=True, as_frame=True)\n",
    "X_train, X_test, y_train, y_test = train_test_split(X, y, test_size=0.2, random_state=42)"
   ]
  },
  {
   "cell_type": "markdown",
   "metadata": {},
   "source": [
    "## `fit`"
   ]
  },
  {
   "cell_type": "code",
   "execution_count": null,
   "metadata": {},
   "outputs": [],
   "source": []
  },
  {
   "cell_type": "code",
   "execution_count": 4,
   "metadata": {},
   "outputs": [
    {
     "name": "stdout",
     "output_type": "stream",
     "text": [
      "Linear Regression trained.\n",
      "Linear Regression (L1) trained.\n",
      "Linear Regression (L2) trained.\n",
      "Linear Support Vector Machine trained.\n",
      "Support Vector Machine trained.\n",
      "Decision Tree trained.\n"
     ]
    },
    {
     "name": "stderr",
     "output_type": "stream",
     "text": [
      "/Users/zeily/miniconda3/lib/python3.11/site-packages/sklearn/svm/_classes.py:32: FutureWarning: The default value of `dual` will change from `True` to `'auto'` in 1.5. Set the value of `dual` explicitly to suppress the warning.\n",
      "  warnings.warn(\n"
     ]
    },
    {
     "name": "stdout",
     "output_type": "stream",
     "text": [
      "Random Forest trained.\n",
      "Gradient Boosting trained.\n",
      "AdaBoost trained.\n"
     ]
    },
    {
     "data": {
      "text/plain": [
       "({'Linear Regression': {'Mean Absolute Error': 42.79409467959994,\n",
       "   'Mean Absolute Percentage Error': 0.3749982636756113,\n",
       "   'R2 Score': 0.4526027629719195,\n",
       "   'Mean Squared Error': 2900.1936284934814,\n",
       "   'Root Mean Squared Error': 53.85344583676593},\n",
       "  'Linear Regression (L1)': {'Mean Absolute Error': 49.73032753662261,\n",
       "   'Mean Absolute Percentage Error': 0.47112563453406076,\n",
       "   'R2 Score': 0.3575918767219115,\n",
       "   'Mean Squared Error': 3403.5757216070733,\n",
       "   'Root Mean Squared Error': 58.340172450954185},\n",
       "  'Linear Regression (L2)': {'Mean Absolute Error': 46.13885766697452,\n",
       "   'Mean Absolute Percentage Error': 0.42569291627271477,\n",
       "   'R2 Score': 0.41915292635986556,\n",
       "   'Mean Squared Error': 3077.4159388272296,\n",
       "   'Root Mean Squared Error': 55.47446204180109},\n",
       "  'Linear Support Vector Machine': {'Mean Absolute Error': 63.365412233872696,\n",
       "   'Mean Absolute Percentage Error': 0.4310525368570427,\n",
       "   'R2 Score': -0.2787787179382626,\n",
       "   'Mean Squared Error': 6775.163700410424,\n",
       "   'Root Mean Squared Error': 82.31138256894015},\n",
       "  'Support Vector Machine': {'Mean Absolute Error': 56.02372412801096,\n",
       "   'Mean Absolute Percentage Error': 0.49028421404764305,\n",
       "   'R2 Score': 0.18211365770500287,\n",
       "   'Mean Squared Error': 4333.285954518086,\n",
       "   'Root Mean Squared Error': 65.82769899151941},\n",
       "  'Decision Tree': {'Mean Absolute Error': 54.01123595505618,\n",
       "   'Mean Absolute Percentage Error': 0.4443680846667711,\n",
       "   'R2 Score': 0.095158275640711,\n",
       "   'Mean Squared Error': 4793.988764044944,\n",
       "   'Root Mean Squared Error': 69.23863635315867},\n",
       "  'Random Forest': {'Mean Absolute Error': 45.1052808988764,\n",
       "   'Mean Absolute Percentage Error': 0.40962811884447586,\n",
       "   'R2 Score': 0.4189683999703574,\n",
       "   'Mean Squared Error': 3078.3935876404494,\n",
       "   'Root Mean Squared Error': 55.48327304368812},\n",
       "  'Gradient Boosting': {'Mean Absolute Error': 44.609519953895784,\n",
       "   'Mean Absolute Percentage Error': 0.39959369018728697,\n",
       "   'R2 Score': 0.45221349095861507,\n",
       "   'Mean Squared Error': 2902.2560506914187,\n",
       "   'Root Mean Squared Error': 53.87259090382992},\n",
       "  'AdaBoost': {'Mean Absolute Error': 44.014057801854825,\n",
       "   'Mean Absolute Percentage Error': 0.4240858933505094,\n",
       "   'R2 Score': 0.4607193909370859,\n",
       "   'Mean Squared Error': 2857.190501847776,\n",
       "   'Root Mean Squared Error': 53.452694056032165}},\n",
       " {'Linear Regression': {'Mean Absolute Error': 43.4835035239804,\n",
       "   'Mean Absolute Percentage Error': 0.38919947147960504,\n",
       "   'R2 Score': 0.5279193863361498,\n",
       "   'Mean Squared Error': 2868.5497028355776,\n",
       "   'Root Mean Squared Error': 53.55884336723094},\n",
       "  'Linear Regression (L1)': {'Mean Absolute Error': 52.95878032849505,\n",
       "   'Mean Absolute Percentage Error': 0.4954382200557504,\n",
       "   'R2 Score': 0.3646309911295581,\n",
       "   'Mean Squared Error': 3860.7549830123576,\n",
       "   'Root Mean Squared Error': 62.134973911737966},\n",
       "  'Linear Regression (L2)': {'Mean Absolute Error': 48.8051936622374,\n",
       "   'Mean Absolute Percentage Error': 0.45064627040176647,\n",
       "   'R2 Score': 0.4424027835503953,\n",
       "   'Mean Squared Error': 3388.1826180801304,\n",
       "   'Root Mean Squared Error': 58.208097530155804},\n",
       "  'Linear Support Vector Machine': {'Mean Absolute Error': 70.62965395732179,\n",
       "   'Mean Absolute Percentage Error': 0.4662836838377102,\n",
       "   'R2 Score': -0.3533908339237748,\n",
       "   'Mean Squared Error': 8223.741374046016,\n",
       "   'Root Mean Squared Error': 90.6848464411007},\n",
       "  'Support Vector Machine': {'Mean Absolute Error': 58.68582085598522,\n",
       "   'Mean Absolute Percentage Error': 0.4945819377173267,\n",
       "   'R2 Score': 0.1668037716306,\n",
       "   'Mean Squared Error': 5062.831906490098,\n",
       "   'Root Mean Squared Error': 71.15357971662492},\n",
       "  'Decision Tree': {'Mean Absolute Error': 0.0,\n",
       "   'Mean Absolute Percentage Error': 0.0,\n",
       "   'R2 Score': 1.0,\n",
       "   'Mean Squared Error': 0.0,\n",
       "   'Root Mean Squared Error': 0.0},\n",
       "  'Random Forest': {'Mean Absolute Error': 17.82810198300283,\n",
       "   'Mean Absolute Percentage Error': 0.1570677329209489,\n",
       "   'R2 Score': 0.9189433203728581,\n",
       "   'Mean Squared Error': 492.53264702549575,\n",
       "   'Root Mean Squared Error': 22.193076556113073},\n",
       "  'Gradient Boosting': {'Mean Absolute Error': 25.351692588287143,\n",
       "   'Mean Absolute Percentage Error': 0.22769769955622146,\n",
       "   'R2 Score': 0.8359025987996851,\n",
       "   'Mean Squared Error': 997.1211225895324,\n",
       "   'Root Mean Squared Error': 31.577224744893787},\n",
       "  'AdaBoost': {'Mean Absolute Error': 41.610851009000555,\n",
       "   'Mean Absolute Percentage Error': 0.39231873450361615,\n",
       "   'R2 Score': 0.6187790607101259,\n",
       "   'Mean Squared Error': 2316.4501580091196,\n",
       "   'Root Mean Squared Error': 48.129514416926334}})"
      ]
     },
     "execution_count": 4,
     "metadata": {},
     "output_type": "execute_result"
    }
   ],
   "source": [
    "model_scores = fit(X_train, X_test, y_train, y_test, return_train=True)\n",
    "model_scores"
   ]
  },
  {
   "cell_type": "markdown",
   "metadata": {},
   "source": [
    "## `show_all`"
   ]
  },
  {
   "cell_type": "markdown",
   "metadata": {},
   "source": [
    "### Visualizing model scores in a table format\n",
    "\n",
    "After executing the `fit` function, both the training and testing scores are available in a dictionary format. The `show_all` function is a versatile tool for efficiently visualize the regression model scores. It transforms the raw model scores into a structured DataFrame and ensure compatibility with subsequent functions such as `display_best` and `select_model` functions.\n",
    "\n",
    "By converting the dictionary into an organized format and sorting the results alphabetically by model name, `show_all` offers a quick and efficient mean of comprehending and comparing regression model performance. The tabular presentation enhances readability, simplifies the process of identifying specific model scores, and contributes to a streamlined model evaluation workflow.\n",
    "\n",
    "While it's possible to achieve similar conversions using pandas manipulation, `show_all` is purpose-built for this package, ensuring the validity of scoring metrics in the dictionary.\n"
   ]
  },
  {
   "cell_type": "code",
   "execution_count": 5,
   "metadata": {},
   "outputs": [
    {
     "name": "stdout",
     "output_type": "stream",
     "text": [
      "|                               |     MAE |     MAPE |        R2 |      MSE |    RMSE |\n",
      "|-------------------------------|---------|----------|-----------|----------|---------|\n",
      "| AdaBoost                      | 41.6109 | 0.392319 |  0.618779 | 2316.45  | 48.1295 |\n",
      "| Decision Tree                 |  0      | 0        |  1        |    0     |  0      |\n",
      "| Gradient Boosting             | 25.3517 | 0.227698 |  0.835903 |  997.121 | 31.5772 |\n",
      "| Linear Regression             | 43.4835 | 0.389199 |  0.527919 | 2868.55  | 53.5588 |\n",
      "| Linear Regression (L1)        | 52.9588 | 0.495438 |  0.364631 | 3860.75  | 62.135  |\n",
      "| Linear Regression (L2)        | 48.8052 | 0.450646 |  0.442403 | 3388.18  | 58.2081 |\n",
      "| Linear Support Vector Machine | 70.6297 | 0.466284 | -0.353391 | 8223.74  | 90.6848 |\n",
      "| Random Forest                 | 17.8281 | 0.157068 |  0.918943 |  492.533 | 22.1931 |\n",
      "| Support Vector Machine        | 58.6858 | 0.494582 |  0.166804 | 5062.83  | 71.1536 |\n"
     ]
    },
    {
     "data": {
      "text/html": [
       "<div>\n",
       "<style scoped>\n",
       "    .dataframe tbody tr th:only-of-type {\n",
       "        vertical-align: middle;\n",
       "    }\n",
       "\n",
       "    .dataframe tbody tr th {\n",
       "        vertical-align: top;\n",
       "    }\n",
       "\n",
       "    .dataframe thead th {\n",
       "        text-align: right;\n",
       "    }\n",
       "</style>\n",
       "<table border=\"1\" class=\"dataframe\">\n",
       "  <thead>\n",
       "    <tr style=\"text-align: right;\">\n",
       "      <th></th>\n",
       "      <th>MAE</th>\n",
       "      <th>MAPE</th>\n",
       "      <th>R2</th>\n",
       "      <th>MSE</th>\n",
       "      <th>RMSE</th>\n",
       "    </tr>\n",
       "  </thead>\n",
       "  <tbody>\n",
       "    <tr>\n",
       "      <th>AdaBoost</th>\n",
       "      <td>41.610851</td>\n",
       "      <td>0.392319</td>\n",
       "      <td>0.618779</td>\n",
       "      <td>2316.450158</td>\n",
       "      <td>48.129514</td>\n",
       "    </tr>\n",
       "    <tr>\n",
       "      <th>Decision Tree</th>\n",
       "      <td>0.000000</td>\n",
       "      <td>0.000000</td>\n",
       "      <td>1.000000</td>\n",
       "      <td>0.000000</td>\n",
       "      <td>0.000000</td>\n",
       "    </tr>\n",
       "    <tr>\n",
       "      <th>Gradient Boosting</th>\n",
       "      <td>25.351693</td>\n",
       "      <td>0.227698</td>\n",
       "      <td>0.835903</td>\n",
       "      <td>997.121123</td>\n",
       "      <td>31.577225</td>\n",
       "    </tr>\n",
       "    <tr>\n",
       "      <th>Linear Regression</th>\n",
       "      <td>43.483504</td>\n",
       "      <td>0.389199</td>\n",
       "      <td>0.527919</td>\n",
       "      <td>2868.549703</td>\n",
       "      <td>53.558843</td>\n",
       "    </tr>\n",
       "    <tr>\n",
       "      <th>Linear Regression (L1)</th>\n",
       "      <td>52.958780</td>\n",
       "      <td>0.495438</td>\n",
       "      <td>0.364631</td>\n",
       "      <td>3860.754983</td>\n",
       "      <td>62.134974</td>\n",
       "    </tr>\n",
       "    <tr>\n",
       "      <th>Linear Regression (L2)</th>\n",
       "      <td>48.805194</td>\n",
       "      <td>0.450646</td>\n",
       "      <td>0.442403</td>\n",
       "      <td>3388.182618</td>\n",
       "      <td>58.208098</td>\n",
       "    </tr>\n",
       "    <tr>\n",
       "      <th>Linear Support Vector Machine</th>\n",
       "      <td>70.629654</td>\n",
       "      <td>0.466284</td>\n",
       "      <td>-0.353391</td>\n",
       "      <td>8223.741374</td>\n",
       "      <td>90.684846</td>\n",
       "    </tr>\n",
       "    <tr>\n",
       "      <th>Random Forest</th>\n",
       "      <td>17.828102</td>\n",
       "      <td>0.157068</td>\n",
       "      <td>0.918943</td>\n",
       "      <td>492.532647</td>\n",
       "      <td>22.193077</td>\n",
       "    </tr>\n",
       "    <tr>\n",
       "      <th>Support Vector Machine</th>\n",
       "      <td>58.685821</td>\n",
       "      <td>0.494582</td>\n",
       "      <td>0.166804</td>\n",
       "      <td>5062.831906</td>\n",
       "      <td>71.153580</td>\n",
       "    </tr>\n",
       "  </tbody>\n",
       "</table>\n",
       "</div>"
      ],
      "text/plain": [
       "                                     MAE      MAPE        R2          MSE  \\\n",
       "AdaBoost                       41.610851  0.392319  0.618779  2316.450158   \n",
       "Decision Tree                   0.000000  0.000000  1.000000     0.000000   \n",
       "Gradient Boosting              25.351693  0.227698  0.835903   997.121123   \n",
       "Linear Regression              43.483504  0.389199  0.527919  2868.549703   \n",
       "Linear Regression (L1)         52.958780  0.495438  0.364631  3860.754983   \n",
       "Linear Regression (L2)         48.805194  0.450646  0.442403  3388.182618   \n",
       "Linear Support Vector Machine  70.629654  0.466284 -0.353391  8223.741374   \n",
       "Random Forest                  17.828102  0.157068  0.918943   492.532647   \n",
       "Support Vector Machine         58.685821  0.494582  0.166804  5062.831906   \n",
       "\n",
       "                                    RMSE  \n",
       "AdaBoost                       48.129514  \n",
       "Decision Tree                   0.000000  \n",
       "Gradient Boosting              31.577225  \n",
       "Linear Regression              53.558843  \n",
       "Linear Regression (L1)         62.134974  \n",
       "Linear Regression (L2)         58.208098  \n",
       "Linear Support Vector Machine  90.684846  \n",
       "Random Forest                  22.193077  \n",
       "Support Vector Machine         71.153580  "
      ]
     },
     "execution_count": 5,
     "metadata": {},
     "output_type": "execute_result"
    }
   ],
   "source": [
    "scores_train = show_all(model_scores[1])  #results_test\n",
    "scores_train"
   ]
  },
  {
   "cell_type": "code",
   "execution_count": 6,
   "metadata": {},
   "outputs": [
    {
     "name": "stdout",
     "output_type": "stream",
     "text": [
      "|                               |     MAE |     MAPE |         R2 |     MSE |    RMSE |\n",
      "|-------------------------------|---------|----------|------------|---------|---------|\n",
      "| AdaBoost                      | 44.0141 | 0.424086 |  0.460719  | 2857.19 | 53.4527 |\n",
      "| Decision Tree                 | 54.0112 | 0.444368 |  0.0951583 | 4793.99 | 69.2386 |\n",
      "| Gradient Boosting             | 44.6095 | 0.399594 |  0.452213  | 2902.26 | 53.8726 |\n",
      "| Linear Regression             | 42.7941 | 0.374998 |  0.452603  | 2900.19 | 53.8534 |\n",
      "| Linear Regression (L1)        | 49.7303 | 0.471126 |  0.357592  | 3403.58 | 58.3402 |\n",
      "| Linear Regression (L2)        | 46.1389 | 0.425693 |  0.419153  | 3077.42 | 55.4745 |\n",
      "| Linear Support Vector Machine | 63.3654 | 0.431053 | -0.278779  | 6775.16 | 82.3114 |\n",
      "| Random Forest                 | 45.1053 | 0.409628 |  0.418968  | 3078.39 | 55.4833 |\n",
      "| Support Vector Machine        | 56.0237 | 0.490284 |  0.182114  | 4333.29 | 65.8277 |\n"
     ]
    },
    {
     "data": {
      "text/html": [
       "<div>\n",
       "<style scoped>\n",
       "    .dataframe tbody tr th:only-of-type {\n",
       "        vertical-align: middle;\n",
       "    }\n",
       "\n",
       "    .dataframe tbody tr th {\n",
       "        vertical-align: top;\n",
       "    }\n",
       "\n",
       "    .dataframe thead th {\n",
       "        text-align: right;\n",
       "    }\n",
       "</style>\n",
       "<table border=\"1\" class=\"dataframe\">\n",
       "  <thead>\n",
       "    <tr style=\"text-align: right;\">\n",
       "      <th></th>\n",
       "      <th>MAE</th>\n",
       "      <th>MAPE</th>\n",
       "      <th>R2</th>\n",
       "      <th>MSE</th>\n",
       "      <th>RMSE</th>\n",
       "    </tr>\n",
       "  </thead>\n",
       "  <tbody>\n",
       "    <tr>\n",
       "      <th>AdaBoost</th>\n",
       "      <td>44.014058</td>\n",
       "      <td>0.424086</td>\n",
       "      <td>0.460719</td>\n",
       "      <td>2857.190502</td>\n",
       "      <td>53.452694</td>\n",
       "    </tr>\n",
       "    <tr>\n",
       "      <th>Decision Tree</th>\n",
       "      <td>54.011236</td>\n",
       "      <td>0.444368</td>\n",
       "      <td>0.095158</td>\n",
       "      <td>4793.988764</td>\n",
       "      <td>69.238636</td>\n",
       "    </tr>\n",
       "    <tr>\n",
       "      <th>Gradient Boosting</th>\n",
       "      <td>44.609520</td>\n",
       "      <td>0.399594</td>\n",
       "      <td>0.452213</td>\n",
       "      <td>2902.256051</td>\n",
       "      <td>53.872591</td>\n",
       "    </tr>\n",
       "    <tr>\n",
       "      <th>Linear Regression</th>\n",
       "      <td>42.794095</td>\n",
       "      <td>0.374998</td>\n",
       "      <td>0.452603</td>\n",
       "      <td>2900.193628</td>\n",
       "      <td>53.853446</td>\n",
       "    </tr>\n",
       "    <tr>\n",
       "      <th>Linear Regression (L1)</th>\n",
       "      <td>49.730328</td>\n",
       "      <td>0.471126</td>\n",
       "      <td>0.357592</td>\n",
       "      <td>3403.575722</td>\n",
       "      <td>58.340172</td>\n",
       "    </tr>\n",
       "    <tr>\n",
       "      <th>Linear Regression (L2)</th>\n",
       "      <td>46.138858</td>\n",
       "      <td>0.425693</td>\n",
       "      <td>0.419153</td>\n",
       "      <td>3077.415939</td>\n",
       "      <td>55.474462</td>\n",
       "    </tr>\n",
       "    <tr>\n",
       "      <th>Linear Support Vector Machine</th>\n",
       "      <td>63.365412</td>\n",
       "      <td>0.431053</td>\n",
       "      <td>-0.278779</td>\n",
       "      <td>6775.163700</td>\n",
       "      <td>82.311383</td>\n",
       "    </tr>\n",
       "    <tr>\n",
       "      <th>Random Forest</th>\n",
       "      <td>45.105281</td>\n",
       "      <td>0.409628</td>\n",
       "      <td>0.418968</td>\n",
       "      <td>3078.393588</td>\n",
       "      <td>55.483273</td>\n",
       "    </tr>\n",
       "    <tr>\n",
       "      <th>Support Vector Machine</th>\n",
       "      <td>56.023724</td>\n",
       "      <td>0.490284</td>\n",
       "      <td>0.182114</td>\n",
       "      <td>4333.285955</td>\n",
       "      <td>65.827699</td>\n",
       "    </tr>\n",
       "  </tbody>\n",
       "</table>\n",
       "</div>"
      ],
      "text/plain": [
       "                                     MAE      MAPE        R2          MSE  \\\n",
       "AdaBoost                       44.014058  0.424086  0.460719  2857.190502   \n",
       "Decision Tree                  54.011236  0.444368  0.095158  4793.988764   \n",
       "Gradient Boosting              44.609520  0.399594  0.452213  2902.256051   \n",
       "Linear Regression              42.794095  0.374998  0.452603  2900.193628   \n",
       "Linear Regression (L1)         49.730328  0.471126  0.357592  3403.575722   \n",
       "Linear Regression (L2)         46.138858  0.425693  0.419153  3077.415939   \n",
       "Linear Support Vector Machine  63.365412  0.431053 -0.278779  6775.163700   \n",
       "Random Forest                  45.105281  0.409628  0.418968  3078.393588   \n",
       "Support Vector Machine         56.023724  0.490284  0.182114  4333.285955   \n",
       "\n",
       "                                    RMSE  \n",
       "AdaBoost                       53.452694  \n",
       "Decision Tree                  69.238636  \n",
       "Gradient Boosting              53.872591  \n",
       "Linear Regression              53.853446  \n",
       "Linear Regression (L1)         58.340172  \n",
       "Linear Regression (L2)         55.474462  \n",
       "Linear Support Vector Machine  82.311383  \n",
       "Random Forest                  55.483273  \n",
       "Support Vector Machine         65.827699  "
      ]
     },
     "execution_count": 6,
     "metadata": {},
     "output_type": "execute_result"
    }
   ],
   "source": [
    "scores_test = show_all(model_scores[0])  #results_train\n",
    "scores_test"
   ]
  },
  {
   "cell_type": "markdown",
   "metadata": {},
   "source": [
    "### Error prevention in `show_all`\n",
    "\n",
    "To ensure a smooth and error-free experience, it is crucial to be mindful of certain considerations during its usage. Here are some troubleshooting tips:\n",
    "\n",
    "1. __Type Check:__ The `show_all` function expects the input `result` to be a dictionary. Passing a non-dictionary type would result in a `TypeError`.\n",
    "2. __Empty Dictionary:__ Ensure that the input argument contains scores for at least one model. Passing an empty dictionary would result in a `ValueError`.\n",
    "3. __Valid Scoring Metrics:__ This function expects dictionary scores outputted from the `fit` function. It ensures that the scoring metrics are valid and complete. Passing an invalid scoring metrics as the dictionary's value will result in a `ValueError`.\n",
    "\n",
    "By adhering to these guidelines, you can maximize the utility of the `show_all` function while preventing potential errors in its usage."
   ]
  },
  {
   "cell_type": "markdown",
   "metadata": {},
   "source": [
    "## `display_best_score`"
   ]
  },
  {
   "cell_type": "code",
   "execution_count": null,
   "metadata": {},
   "outputs": [],
   "source": []
  },
  {
   "cell_type": "code",
   "execution_count": 9,
   "metadata": {},
   "outputs": [
    {
     "name": "stdout",
     "output_type": "stream",
     "text": [
      "|                               |     MAE |\n",
      "|-------------------------------|---------|\n",
      "| Linear Support Vector Machine | 63.3654 |\n"
     ]
    },
    {
     "data": {
      "text/html": [
       "<div>\n",
       "<style scoped>\n",
       "    .dataframe tbody tr th:only-of-type {\n",
       "        vertical-align: middle;\n",
       "    }\n",
       "\n",
       "    .dataframe tbody tr th {\n",
       "        vertical-align: top;\n",
       "    }\n",
       "\n",
       "    .dataframe thead th {\n",
       "        text-align: right;\n",
       "    }\n",
       "</style>\n",
       "<table border=\"1\" class=\"dataframe\">\n",
       "  <thead>\n",
       "    <tr style=\"text-align: right;\">\n",
       "      <th></th>\n",
       "      <th>MAE</th>\n",
       "    </tr>\n",
       "  </thead>\n",
       "  <tbody>\n",
       "    <tr>\n",
       "      <th>Linear Support Vector Machine</th>\n",
       "      <td>63.365412</td>\n",
       "    </tr>\n",
       "  </tbody>\n",
       "</table>\n",
       "</div>"
      ],
      "text/plain": [
       "                                     MAE\n",
       "Linear Support Vector Machine  63.365412"
      ]
     },
     "execution_count": 9,
     "metadata": {},
     "output_type": "execute_result"
    }
   ],
   "source": [
    "best_model_MAE = display_best_score(scores_test, 'MAE')\n",
    "best_model"
   ]
  },
  {
   "cell_type": "markdown",
   "metadata": {},
   "source": [
    "## SELECT MODEL"
   ]
  },
  {
   "cell_type": "markdown",
   "metadata": {},
   "source": [
    "After training the models and evaluating their performance, the select_model function allows the user to select a specific model and view its performance metrics. It ensures that the inputs are of the correct types and that the specified model is present in the results. If the model is found, it returns the performance metrics for that model; otherwise, it provides a list of available models. This function is particularly useful for zooming in on a specific model's performance or for retrieving the performance of the best model based on a particular metric.\n",
    "\n",
    "In the context of a diabetes dataset, for instance, if an analyst suspects that a certain model, like a Random Forest Regressor, might be particularly well-suited to handling the complexities of diabetes data (due to its ability to model non-linear relationships and interactions between variables), the select_model function allows them to isolate and closely examine the performance of just this model. This is especially useful in situations where a multitude of models have been trained and evaluated, and there's a need to drill down into the specifics of one model without getting overwhelmed by the broader data.\n",
    "\n",
    "Expanding beyond healthcare, this function has broad applicability in various fields. For example, in finance, an analyst might want to specifically evaluate the performance of a particular model in predicting stock prices or market trends. Similarly, in environmental science, a researcher could use this function to singularly assess a model's accuracy in forecasting climate patterns or pollution levels.\n",
    "\n",
    "The ability to selectively examine a model is crucial when comparing models that might have different strengths and weaknesses depending on the context. This targeted approach enables a more thoughtful and focused analysis, allowing analysts to make more informed decisions about which model to deploy based on specific criteria relevant to their field or problem at hand. It's a tool that enhances precision in model selection."
   ]
  },
  {
   "cell_type": "code",
   "execution_count": 10,
   "metadata": {},
   "outputs": [
    {
     "data": {
      "text/html": [
       "<div>\n",
       "<style scoped>\n",
       "    .dataframe tbody tr th:only-of-type {\n",
       "        vertical-align: middle;\n",
       "    }\n",
       "\n",
       "    .dataframe tbody tr th {\n",
       "        vertical-align: top;\n",
       "    }\n",
       "\n",
       "    .dataframe thead th {\n",
       "        text-align: right;\n",
       "    }\n",
       "</style>\n",
       "<table border=\"1\" class=\"dataframe\">\n",
       "  <thead>\n",
       "    <tr style=\"text-align: right;\">\n",
       "      <th></th>\n",
       "      <th>MAE</th>\n",
       "      <th>MAPE</th>\n",
       "      <th>R2</th>\n",
       "      <th>MSE</th>\n",
       "      <th>RMSE</th>\n",
       "    </tr>\n",
       "  </thead>\n",
       "  <tbody>\n",
       "    <tr>\n",
       "      <th>AdaBoost</th>\n",
       "      <td>44.014058</td>\n",
       "      <td>0.424086</td>\n",
       "      <td>0.460719</td>\n",
       "      <td>2857.190502</td>\n",
       "      <td>53.452694</td>\n",
       "    </tr>\n",
       "  </tbody>\n",
       "</table>\n",
       "</div>"
      ],
      "text/plain": [
       "                MAE      MAPE        R2          MSE       RMSE\n",
       "AdaBoost  44.014058  0.424086  0.460719  2857.190502  53.452694"
      ]
     },
     "execution_count": 10,
     "metadata": {},
     "output_type": "execute_result"
    }
   ],
   "source": [
    "AdaBoost_scores = select_model(scores_test, 'AdaBoost')\n",
    "AdaBoost_scores"
   ]
  },
  {
   "cell_type": "code",
   "execution_count": 11,
   "metadata": {},
   "outputs": [
    {
     "data": {
      "text/html": [
       "<div>\n",
       "<style scoped>\n",
       "    .dataframe tbody tr th:only-of-type {\n",
       "        vertical-align: middle;\n",
       "    }\n",
       "\n",
       "    .dataframe tbody tr th {\n",
       "        vertical-align: top;\n",
       "    }\n",
       "\n",
       "    .dataframe thead th {\n",
       "        text-align: right;\n",
       "    }\n",
       "</style>\n",
       "<table border=\"1\" class=\"dataframe\">\n",
       "  <thead>\n",
       "    <tr style=\"text-align: right;\">\n",
       "      <th></th>\n",
       "      <th>MAE</th>\n",
       "      <th>MAPE</th>\n",
       "      <th>R2</th>\n",
       "      <th>MSE</th>\n",
       "      <th>RMSE</th>\n",
       "    </tr>\n",
       "  </thead>\n",
       "  <tbody>\n",
       "    <tr>\n",
       "      <th>Linear Regression</th>\n",
       "      <td>42.794095</td>\n",
       "      <td>0.374998</td>\n",
       "      <td>0.452603</td>\n",
       "      <td>2900.193628</td>\n",
       "      <td>53.853446</td>\n",
       "    </tr>\n",
       "  </tbody>\n",
       "</table>\n",
       "</div>"
      ],
      "text/plain": [
       "                         MAE      MAPE        R2          MSE       RMSE\n",
       "Linear Regression  42.794095  0.374998  0.452603  2900.193628  53.853446"
      ]
     },
     "execution_count": 11,
     "metadata": {},
     "output_type": "execute_result"
    }
   ],
   "source": [
    "LR_scores = select_model(scores_test, 'Linear Regression')\n",
    "LR_scores"
   ]
  },
  {
   "cell_type": "code",
   "execution_count": 12,
   "metadata": {},
   "outputs": [
    {
     "data": {
      "text/html": [
       "<div>\n",
       "<style scoped>\n",
       "    .dataframe tbody tr th:only-of-type {\n",
       "        vertical-align: middle;\n",
       "    }\n",
       "\n",
       "    .dataframe tbody tr th {\n",
       "        vertical-align: top;\n",
       "    }\n",
       "\n",
       "    .dataframe thead th {\n",
       "        text-align: right;\n",
       "    }\n",
       "</style>\n",
       "<table border=\"1\" class=\"dataframe\">\n",
       "  <thead>\n",
       "    <tr style=\"text-align: right;\">\n",
       "      <th></th>\n",
       "      <th>MAE</th>\n",
       "      <th>MAPE</th>\n",
       "      <th>R2</th>\n",
       "      <th>MSE</th>\n",
       "      <th>RMSE</th>\n",
       "    </tr>\n",
       "  </thead>\n",
       "  <tbody>\n",
       "    <tr>\n",
       "      <th>Random Forest</th>\n",
       "      <td>45.105281</td>\n",
       "      <td>0.409628</td>\n",
       "      <td>0.418968</td>\n",
       "      <td>3078.393588</td>\n",
       "      <td>55.483273</td>\n",
       "    </tr>\n",
       "  </tbody>\n",
       "</table>\n",
       "</div>"
      ],
      "text/plain": [
       "                     MAE      MAPE        R2          MSE       RMSE\n",
       "Random Forest  45.105281  0.409628  0.418968  3078.393588  55.483273"
      ]
     },
     "execution_count": 12,
     "metadata": {},
     "output_type": "execute_result"
    }
   ],
   "source": [
    "RF_scores = select_model(scores_test, 'Random Forest')\n",
    "RF_scores"
   ]
  },
  {
   "cell_type": "markdown",
   "metadata": {},
   "source": [
    "### Error prevention in `select_model`"
   ]
  },
  {
   "cell_type": "markdown",
   "metadata": {},
   "source": [
    "The select_model function is not only beneficial for focusing on a specific model's performance but also serves as a useful tool for verifying the presence of a model within the dataset. When an analyst specifies a model, the function checks if that model is included in the DataFrame's index. If the model is not found, the function doesn't just stop at returning an error message; it goes a step further by providing a list of the models that are included. This feature is particularly helpful in multiple ways:\n",
    "\n",
    "- **Error Prevention and Troubleshooting:** It helps in preventing errors that might occur from typos or incorrect model names. By returning an error message and a list of included models, it guides the user towards the correct model names, making the troubleshooting process more intuitive and less time-consuming.\n",
    "\n",
    "- **Model Inventory Check:** It essentially acts as a quick inventory check, allowing users to confirm which models have been trained and evaluated. This is especially useful in collaborative environments where multiple team members might be working on the same dataset but focusing on different models. It ensures that everyone is aware of the models that are already included in the analysis, helping to avoid redundant work.\n",
    "\n",
    "- **Informed Decision Making:** By providing a list of available models, it aids in informed decision-making. Analysts can quickly scan through the available models and decide which ones to focus on based on their specific criteria or hypothesis, without having to look through the entire DataFrame.\n",
    "\n",
    "For example, in a real-life scenario, an environmental scientist analyzing a dataset on air quality might be interested in examining a specific model's ability to predict pollution levels. If they aren't sure whether the model has been included in the analysis, they can use the select_model function. If the model is not found, the function's feedback not only informs them of this but also shows which models are available, allowing the scientist to make an informed decision on whether to proceed with an available trained model or to train and evaluate the model of interest."
   ]
  },
  {
   "cell_type": "code",
   "execution_count": 13,
   "metadata": {},
   "outputs": [
    {
     "data": {
      "text/plain": [
       "\"Model 'Other Regressor' not found. Here is the list of the models available: AdaBoost, Decision Tree, Gradient Boosting, Linear Regression, Linear Regression (L1), Linear Regression (L2), Linear Support Vector Machine, Random Forest, Support Vector Machine.\""
      ]
     },
     "execution_count": 13,
     "metadata": {},
     "output_type": "execute_result"
    }
   ],
   "source": [
    "# Model Does Not Exist\n",
    "selected_model_name = 'Other Regressor'\n",
    "Other_Regressor_scores = select_model(scores_test, selected_model_name)\n",
    "Other_Regressor_scores"
   ]
  },
  {
   "cell_type": "code",
   "execution_count": 14,
   "metadata": {},
   "outputs": [
    {
     "data": {
      "text/plain": [
       "\"Model 'Rand Fore' not found. Here is the list of the models available: AdaBoost, Decision Tree, Gradient Boosting, Linear Regression, Linear Regression (L1), Linear Regression (L2), Linear Support Vector Machine, Random Forest, Support Vector Machine.\""
      ]
     },
     "execution_count": 14,
     "metadata": {},
     "output_type": "execute_result"
    }
   ],
   "source": [
    "# Wrong Spelling\n",
    "selected_model_name = 'Rand Fore'\n",
    "RF_scores = select_model(scores_test, selected_model_name)\n",
    "RF_scores"
   ]
  },
  {
   "cell_type": "markdown",
   "metadata": {},
   "source": [
    "## CONCLUSION"
   ]
  },
  {
   "cell_type": "markdown",
   "metadata": {},
   "source": [
    "Our script presents a comprehensive framework for model selection within the realm of machine learning tasks. It facilitates the training and evaluation of a diverse array of models, provides a detailed array of performance metrics for thorough assessment, and ensures a clear, user-friendly presentation of results, aiding in the informed selection of the most effective model. The application of this script to the diabetes dataset underlines its relevance and adaptability to real-world data, underscoring its potential to be a valuable asset in healthcare analytics and various other domains where modeling is a key."
   ]
  }
 ],
 "metadata": {
  "kernelspec": {
   "display_name": "Python 3 (ipykernel)",
   "language": "python",
   "name": "python3"
  },
  "language_info": {
   "codemirror_mode": {
    "name": "ipython",
    "version": 3
   },
   "file_extension": ".py",
   "mimetype": "text/x-python",
   "name": "python",
   "nbconvert_exporter": "python",
   "pygments_lexer": "ipython3",
   "version": "3.11.4"
  }
 },
 "nbformat": 4,
 "nbformat_minor": 4
}
