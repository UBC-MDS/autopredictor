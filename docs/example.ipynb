{
 "cells": [
  {
   "cell_type": "markdown",
   "metadata": {},
   "source": [
    "# Autopredictor Tutorial"
   ]
  },
  {
   "cell_type": "markdown",
   "metadata": {},
   "source": [
    "In critical sectors like healthcare, the choice of an accurate and efficient predictive model is crucial, impacting decision-making and outcomes significantly. The `autopredictor` package is designed to simplify and expedite the process of model selection and evaluation for continuous data scenarios. This package is especially valuable for healthcare professionals, data scientists, and researchers, offering them more time for insightful data interpretation and strategic decision-making. This tutorial will demonstrate the use of autopredictor with a diabetes dataset, reflecting real-world health data scenarios."
   ]
  },
  {
   "cell_type": "markdown",
   "metadata": {
    "jp-MarkdownHeadingCollapsed": true
   },
   "source": [
    "### Handling Continuous and Categorical Responses\n",
    "The `autopredictor` package is optimized for continuous response variables, ideal for regression tasks where the outcome is a continuous value. While it can process categorical features within the input data, the response variable (y) should be continuous. This makes the package particularly suitable for scenarios like predicting numerical outcomes in healthcare or finance.\n",
    "\n",
    "### Regression Models\n",
    "The `autopredictor` package includes a collection of regression models, each suited for different types of datasets and analysis requirements:\n",
    "\n",
    "- **Linear Regression:**\n",
    "  - A statistical method for modeling the relationship between a dependent variable and one or more independent variables.\n",
    "  - Assumes a linear relationship between inputs and the target output.\n",
    "\n",
    "- **Linear Regression (L1 Regularization):**\n",
    "  - A variant of linear regression that includes L1 regularization, which adds a penalty equivalent to the absolute value of the magnitude of coefficients.\n",
    "  - Helps in feature selection by shrinking coefficients of less important features to zero.\n",
    "\n",
    "- **Linear Regression (L2 Regularization):**\n",
    "  - Similar to L1, but uses L2 regularization where the penalty is the square of the magnitude of coefficients.\n",
    "  - Tends to distribute error among all the terms, useful in avoiding overfitting by penalizing large coefficients.\n",
    "\n",
    "- **Linear Support Vector Machine (SVM):**\n",
    "  - A type of SVM that's used for regression tasks. It tries to find a line (or hyperplane in higher dimensions) that best fits the data.\n",
    "  - Effective in high-dimensional spaces and best suited for cases where the number of dimensions exceeds the number of samples.\n",
    "\n",
    "- **Support Vector Machine:**\n",
    "  - An extension of Linear SVM, capable of performing both linear and non-linear regression.\n",
    "  - Utilizes kernel functions to transform data into a higher dimension where a hyperplane can be used to perform the regression.\n",
    "\n",
    "- **Decision Tree:**\n",
    "  - A tree-like model of decisions where each node represents a feature, each branch represents a decision rule, and each leaf represents an outcome.\n",
    "  - Simple to understand and interpret, and can handle both numerical and categorical data.\n",
    "\n",
    "- **Random Forest:**\n",
    "  - An ensemble learning method that operates by constructing multiple decision trees during training.\n",
    "  - For regression tasks, it takes the average prediction of the individual trees, which usually results in better performance and less overfitting.\n",
    "\n",
    "- **Gradient Boosting:**\n",
    "  - An ensemble technique that builds models sequentially, with each new model being trained to correct the errors made by the previous ones.\n",
    "  - Combines weak predictive models to create a strong model, particularly effective for complex datasets with nonlinear relationships.\n",
    "\n",
    "- **AdaBoost:**\n",
    "  - Short for Adaptive Boosting, it combines multiple weak learners to increase the accuracy of the model.\n",
    "  - Adjusts the weights of incorrectly classified instances so that subsequent classifiers focus more on difficult cases.\n",
    "\n",
    "Each of these models offers unique advantages and can be selected based on the specific requirements of your dataset and prediction task. Understanding the underlying mechanics of these models will help you make informed decisions when using the `autopredictor` package.\n",
    "\n",
    "### Scoring Metrics\n",
    "The `autopredictor` package features a diverse array of scoring metrics, tailored to evaluate the performance of regression models across various datasets and analytical needs.\n",
    "\n",
    "- **Mean Absolute Error (MAE):** This is the average of the absolute differences between the predicted and actual values. A lower MAE value indicates a model with fewer errors.\n",
    "\n",
    "- **Mean Absolute Percentage Error (MAPE):** It measures the average percentage error between the predicted and actual values. Like MAE, a lower MAPE value signifies better model accuracy.\n",
    "\n",
    "- **R-squared (R2):** This metric quantifies the percentage of the variance in the dependent variable that is predictable from the independent variables. A higher R2 value (closer to 1) indicates a better model fit.\n",
    "\n",
    "- **Mean Squared Error (MSE):** MSE calculates the average of the squared differences between predicted and actual values. A lower MSE value is preferable, indicating higher precision of the model.\n",
    "\n",
    "- **Root Mean Squared Error (RMSE):** RMSE is the square root of MSE and provides a measure of the magnitude of the error. Like MSE, a lower RMSE indicates a more accurate model."
   ]
  },
  {
   "cell_type": "markdown",
   "metadata": {},
   "source": [
    "## Setting Up and Version Checking\n",
    "To begin, install and import the autopredictor package and check its version to ensure compatibility with your dataset and analysis requirements."
   ]
  },
  {
   "cell_type": "code",
   "execution_count": 1,
   "metadata": {},
   "outputs": [
    {
     "name": "stdout",
     "output_type": "stream",
     "text": [
      "0.1.0\n"
     ]
    }
   ],
   "source": [
    "import autopredictor\n",
    "\n",
    "print(autopredictor.__version__)"
   ]
  },
  {
   "cell_type": "markdown",
   "metadata": {},
   "source": [
    "## Importing Necessary Modules and Data\n",
    "Import essential modules and the dataset. For this tutorial, the diabetes dataset from sklearn is used."
   ]
  },
  {
   "cell_type": "code",
   "execution_count": 2,
   "metadata": {},
   "outputs": [],
   "source": [
    "from autopredictor.fit import fit\n",
    "from autopredictor.show_all import show_all\n",
    "from autopredictor.bestscore import display_best_score\n",
    "from autopredictor.select_model import select_model\n",
    "from sklearn.model_selection import train_test_split\n",
    "from sklearn.datasets import load_diabetes\n",
    "import warnings\n",
    "\n",
    "warnings.filterwarnings(\"ignore\")"
   ]
  },
  {
   "cell_type": "markdown",
   "metadata": {},
   "source": [
    "## Model Fitting with `fit` "
   ]
  },
  {
   "cell_type": "markdown",
   "metadata": {},
   "source": [
    "The versatile `fit` function is designed to streamline the process of training and evaluating multiple regression models. Its primary objective is to facilitate the exploration and comparison of various regression models by effortlessly managing both training and test datasets, along with their associated target values. The function is designed to deliver detailed and comprehensive performance scores for each model and a spectrum of evaluation metrics.\n"
   ]
  },
  {
   "cell_type": "markdown",
   "metadata": {},
   "source": [
    "### Criteria for Input Data Format\n",
    "The `fit` function requires data to be preprocessed and formatted appropriately:\n",
    "\n",
    "- **Data Cleaning:** Ensure all irrelevant or redundant columns are removed. For instance, if your dataset contains columns like 'ID' or 'Timestamp' that are not relevant to the model, these should be dropped.\n",
    "\n",
    "- **Data Type Conversion:** Convert categorical data into a numerical format using techniques like `OneHotEncoding` for nominal categories or `OrdinalEncoding` for ordinal categories.\n",
    "\n",
    "- **Handling Missing Values:** Address any missing or NaN values either by imputing them or removing the rows/columns, depending on the scenario.\n",
    "\n",
    "- **Data Splitting:** The input data should be split into features (X) and the target variable (y). The features should be in a DataFrame format, and the target variable should be a Series or a single column DataFrame.\n",
    "\n",
    "Before getting started, it is assumed the user will have the data split into `X_train`, `X_test`, `y_train`, and `y_test`. We recommend using scikit-learn's `sklearn.model_selection.train_test_split` in order to acheive this. \n",
    "\n",
    "For this example, we will be using the diabetes regression dataset from scikit-learn's `sklearn.datasets.load_diabetes()`. "
   ]
  },
  {
   "cell_type": "code",
   "execution_count": 3,
   "metadata": {},
   "outputs": [],
   "source": [
    "X, y = load_diabetes(return_X_y=True, as_frame=True)\n",
    "X_train, X_test, y_train, y_test = train_test_split(X, y, test_size=0.2, random_state=42)"
   ]
  },
  {
   "cell_type": "markdown",
   "metadata": {},
   "source": [
    "### Fitting the Models"
   ]
  },
  {
   "cell_type": "markdown",
   "metadata": {},
   "source": [
    "To get started, the user should call the `fit` function and input the parameters for `X_train`, `X_test`, `y_train`, and `y_test`. The user is given the option to also output the score for the training set. This can be done by setting the parameter `return_train` to `True`. "
   ]
  },
  {
   "cell_type": "code",
   "execution_count": 4,
   "metadata": {},
   "outputs": [
    {
     "name": "stdout",
     "output_type": "stream",
     "text": [
      "Linear Regression trained.\n",
      "Linear Regression (L1) trained.\n",
      "Linear Regression (L2) trained.\n",
      "Linear Support Vector Machine trained.\n",
      "Support Vector Machine trained.\n",
      "Decision Tree trained.\n",
      "Random Forest trained.\n",
      "Gradient Boosting trained.\n",
      "AdaBoost trained.\n"
     ]
    }
   ],
   "source": [
    "model_scores = fit(X_train, X_test, y_train, y_test, return_train=True)"
   ]
  },
  {
   "cell_type": "markdown",
   "metadata": {},
   "source": [
    "The function will return a tuple of two dictionaries. The first dictionary will always be the scores for the test set. If `return_train=True` the second dictionary will be the scores for the training set, otherwise it will be empty."
   ]
  },
  {
   "cell_type": "code",
   "execution_count": 5,
   "metadata": {},
   "outputs": [
    {
     "name": "stdout",
     "output_type": "stream",
     "text": [
      "Test scores: \n",
      "{'Linear Regression': {'Mean Absolute Error': 42.79409467959994, 'Mean Absolute Percentage Error': 0.3749982636756113, 'R2 Score': 0.4526027629719195, 'Mean Squared Error': 2900.1936284934814, 'Root Mean Squared Error': 53.85344583676593}, 'Linear Regression (L1)': {'Mean Absolute Error': 49.73032753662261, 'Mean Absolute Percentage Error': 0.47112563453406076, 'R2 Score': 0.3575918767219115, 'Mean Squared Error': 3403.5757216070733, 'Root Mean Squared Error': 58.340172450954185}, 'Linear Regression (L2)': {'Mean Absolute Error': 46.13885766697452, 'Mean Absolute Percentage Error': 0.42569291627271477, 'R2 Score': 0.41915292635986556, 'Mean Squared Error': 3077.4159388272296, 'Root Mean Squared Error': 55.47446204180109}, 'Linear Support Vector Machine': {'Mean Absolute Error': 63.36289000641934, 'Mean Absolute Percentage Error': 0.431073519029808, 'R2 Score': -0.2785978648741576, 'Mean Squared Error': 6774.205513432611, 'Root Mean Squared Error': 82.3055618620796}, 'Support Vector Machine': {'Mean Absolute Error': 56.02372412801096, 'Mean Absolute Percentage Error': 0.49028421404764305, 'R2 Score': 0.18211365770500287, 'Mean Squared Error': 4333.285954518086, 'Root Mean Squared Error': 65.82769899151941}, 'Decision Tree': {'Mean Absolute Error': 55.10112359550562, 'Mean Absolute Percentage Error': 0.4539769356581424, 'R2 Score': 0.08540079196200034, 'Mean Squared Error': 4845.685393258427, 'Root Mean Squared Error': 69.61095742236581}, 'Random Forest': {'Mean Absolute Error': 44.0632584269663, 'Mean Absolute Percentage Error': 0.3976799904607186, 'R2 Score': 0.43229352040167124, 'Mean Squared Error': 3007.7950775280897, 'Root Mean Squared Error': 54.843368582975366}, 'Gradient Boosting': {'Mean Absolute Error': 44.54555254252566, 'Mean Absolute Percentage Error': 0.3993662965488985, 'R2 Score': 0.4536810077386517, 'Mean Squared Error': 2894.48092409729, 'Root Mean Squared Error': 53.800380334132306}, 'AdaBoost': {'Mean Absolute Error': 46.02419367699772, 'Mean Absolute Percentage Error': 0.43969675620915444, 'R2 Score': 0.4160747840980854, 'Mean Squared Error': 3093.724403633663, 'Root Mean Squared Error': 55.62125855851936}}\n"
     ]
    }
   ],
   "source": [
    "print(f'Test scores: \\n{model_scores[0]}')"
   ]
  },
  {
   "cell_type": "code",
   "execution_count": 6,
   "metadata": {},
   "outputs": [
    {
     "name": "stdout",
     "output_type": "stream",
     "text": [
      "Train scores: \n",
      "{'Linear Regression': {'Mean Absolute Error': 43.4835035239804, 'Mean Absolute Percentage Error': 0.38919947147960504, 'R2 Score': 0.5279193863361498, 'Mean Squared Error': 2868.5497028355776, 'Root Mean Squared Error': 53.55884336723094}, 'Linear Regression (L1)': {'Mean Absolute Error': 52.95878032849505, 'Mean Absolute Percentage Error': 0.4954382200557504, 'R2 Score': 0.3646309911295581, 'Mean Squared Error': 3860.7549830123576, 'Root Mean Squared Error': 62.134973911737966}, 'Linear Regression (L2)': {'Mean Absolute Error': 48.8051936622374, 'Mean Absolute Percentage Error': 0.45064627040176647, 'R2 Score': 0.4424027835503953, 'Mean Squared Error': 3388.1826180801304, 'Root Mean Squared Error': 58.208097530155804}, 'Linear Support Vector Machine': {'Mean Absolute Error': 70.62641011181339, 'Mean Absolute Percentage Error': 0.46629690337030644, 'R2 Score': -0.3532334522718239, 'Mean Squared Error': 8222.785060488823, 'Root Mean Squared Error': 90.6795735570521}, 'Support Vector Machine': {'Mean Absolute Error': 58.68582085598522, 'Mean Absolute Percentage Error': 0.4945819377173267, 'R2 Score': 0.1668037716306, 'Mean Squared Error': 5062.831906490098, 'Root Mean Squared Error': 71.15357971662492}, 'Decision Tree': {'Mean Absolute Error': 0.0, 'Mean Absolute Percentage Error': 0.0, 'R2 Score': 1.0, 'Mean Squared Error': 0.0, 'Root Mean Squared Error': 0.0}, 'Random Forest': {'Mean Absolute Error': 17.520368271954677, 'Mean Absolute Percentage Error': 0.15426670087444772, 'R2 Score': 0.9221671253399549, 'Mean Squared Error': 472.9435249291785, 'Root Mean Squared Error': 21.7472647689124}, 'Gradient Boosting': {'Mean Absolute Error': 25.351692588287143, 'Mean Absolute Percentage Error': 0.22769769955622146, 'R2 Score': 0.8359025987996851, 'Mean Squared Error': 997.1211225895324, 'Root Mean Squared Error': 31.577224744893787}, 'AdaBoost': {'Mean Absolute Error': 40.77944722497497, 'Mean Absolute Percentage Error': 0.3868905079855367, 'R2 Score': 0.6420905465157765, 'Mean Squared Error': 2174.800291979946, 'Root Mean Squared Error': 46.63475412157703}}\n"
     ]
    }
   ],
   "source": [
    "print(f'Train scores: \\n{model_scores[1]}')"
   ]
  },
  {
   "cell_type": "markdown",
   "metadata": {},
   "source": [
    "### Error prevention in `fit`"
   ]
  },
  {
   "cell_type": "markdown",
   "metadata": {},
   "source": [
    "Here are some of the strategies that were used in order to boost error prevention in `fit`\n",
    "\n",
    "__Input content check:__ To begin with model training, the function will first check that all four of the mandatory parameters (`X_train`, `X_test`, `y_train`, and `y_test`) are not empty (`None`). Confirm that each of these parameters is provided. In the event that any of these parameters are missing or set to `None`, the function will raise an exception telling the user to input a valid DataFrame object into the function.\n",
    "\n",
    "__Valid input check:__ The inherent design of scikit-learn functions requires that mandatory parameters be either DataFrames or Series. Consequently, supplying any other type of input will result in an error. To prevent such errors, verify that all parameters inputted conform to these expected types."
   ]
  },
  {
   "cell_type": "markdown",
   "metadata": {},
   "source": [
    "## Evaluating all models with `show_all`"
   ]
  },
  {
   "cell_type": "markdown",
   "metadata": {},
   "source": [
    "After executing the `fit` function, both the training and testing scores are available in a dictionary format. The `show_all` function is a versatile tool for efficiently visualize the regression model scores. It transforms the raw model scores into a structured DataFrame. By presenting data in a user-friendly format, `show_all` not only saves time but also ensures compatibility with other functions in the workflow, like `display_best_score` and `select_model`. It's efficient way to begin the model evaluation process, setting the stage for more detailed analysis.\n",
    "\n",
    "By converting the dictionary into an organized format and sorting the results alphabetically by model name, `show_all` offers a quick and efficient mean of comprehending and comparing regression model performance. The tabular presentation enhances readability, simplifies the process of identifying specific model scores, and contributes to a streamlined model evaluation workflow. Consider a real-life application like using the load_diabetes dataset from sklearn. A researcher can train multiple models to predict diabetes progression and then use `show_all` to access a user friendly view of all the models and their respective metrics. \n",
    "\n",
    "While it's possible to achieve similar conversions using pandas manipulation, `show_all` is purpose-built for this package, ensuring the validity of scoring metrics in the dictionary."
   ]
  },
  {
   "cell_type": "markdown",
   "metadata": {},
   "source": [
    "**Visualizing training scores with `show_all`**"
   ]
  },
  {
   "cell_type": "code",
   "execution_count": 7,
   "metadata": {},
   "outputs": [
    {
     "name": "stdout",
     "output_type": "stream",
     "text": [
      "|                               |     MAE |     MAPE |        R2 |      MSE |    RMSE |\n",
      "|-------------------------------|---------|----------|-----------|----------|---------|\n",
      "| AdaBoost                      | 40.7794 | 0.386891 |  0.642091 | 2174.8   | 46.6348 |\n",
      "| Decision Tree                 |  0      | 0        |  1        |    0     |  0      |\n",
      "| Gradient Boosting             | 25.3517 | 0.227698 |  0.835903 |  997.121 | 31.5772 |\n",
      "| Linear Regression             | 43.4835 | 0.389199 |  0.527919 | 2868.55  | 53.5588 |\n",
      "| Linear Regression (L1)        | 52.9588 | 0.495438 |  0.364631 | 3860.75  | 62.135  |\n",
      "| Linear Regression (L2)        | 48.8052 | 0.450646 |  0.442403 | 3388.18  | 58.2081 |\n",
      "| Linear Support Vector Machine | 70.6264 | 0.466297 | -0.353233 | 8222.79  | 90.6796 |\n",
      "| Random Forest                 | 17.5204 | 0.154267 |  0.922167 |  472.944 | 21.7473 |\n",
      "| Support Vector Machine        | 58.6858 | 0.494582 |  0.166804 | 5062.83  | 71.1536 |\n"
     ]
    }
   ],
   "source": [
    "scores_train = show_all(model_scores[1]) #results_train "
   ]
  },
  {
   "cell_type": "markdown",
   "metadata": {},
   "source": [
    "**Visualizing test scores with `show_all`**"
   ]
  },
  {
   "cell_type": "code",
   "execution_count": 8,
   "metadata": {},
   "outputs": [
    {
     "name": "stdout",
     "output_type": "stream",
     "text": [
      "|                               |     MAE |     MAPE |         R2 |     MSE |    RMSE |\n",
      "|-------------------------------|---------|----------|------------|---------|---------|\n",
      "| AdaBoost                      | 46.0242 | 0.439697 |  0.416075  | 3093.72 | 55.6213 |\n",
      "| Decision Tree                 | 55.1011 | 0.453977 |  0.0854008 | 4845.69 | 69.611  |\n",
      "| Gradient Boosting             | 44.5456 | 0.399366 |  0.453681  | 2894.48 | 53.8004 |\n",
      "| Linear Regression             | 42.7941 | 0.374998 |  0.452603  | 2900.19 | 53.8534 |\n",
      "| Linear Regression (L1)        | 49.7303 | 0.471126 |  0.357592  | 3403.58 | 58.3402 |\n",
      "| Linear Regression (L2)        | 46.1389 | 0.425693 |  0.419153  | 3077.42 | 55.4745 |\n",
      "| Linear Support Vector Machine | 63.3629 | 0.431074 | -0.278598  | 6774.21 | 82.3056 |\n",
      "| Random Forest                 | 44.0633 | 0.39768  |  0.432294  | 3007.8  | 54.8434 |\n",
      "| Support Vector Machine        | 56.0237 | 0.490284 |  0.182114  | 4333.29 | 65.8277 |\n"
     ]
    }
   ],
   "source": [
    "scores_test = show_all(model_scores[0]) #results_test"
   ]
  },
  {
   "cell_type": "markdown",
   "metadata": {},
   "source": [
    "### Error prevention in `show_all`"
   ]
  },
  {
   "cell_type": "markdown",
   "metadata": {},
   "source": [
    "To ensure a smooth and error-free experience, it is crucial to be mindful of certain considerations during its usage. Here are some tips:\n",
    "\n",
    "__Type Check:__ The `show_all` function expects the input `result` to be a dictionary. Providing an input of a different type, such as a list or string, will trigger a `TypeError`. Always verify the input type to ensure compatibility.\n",
    "\n",
    "__Empty Dictionary:__ Ensure that the input argument contains scores for at least one model. Passing an empty dictionary would result in a `ValueError`. Before invoking `show_all`, check that your dictionary is populated with relevant data.\n",
    "\n",
    "__Valid Scoring Metrics:__ This function expects dictionary scores outputted from the `fit` function. It ensures that the scoring metrics are valid and complete. Passing an invalid scoring metrics as the dictionary's value will result in a `ValueError`.\n",
    "\n",
    "By adhering to these guidelines, you can maximize the utility of the `show_all` function while preventing potential errors in its usage."
   ]
  },
  {
   "cell_type": "markdown",
   "metadata": {},
   "source": [
    "## Selecting the best model with `display_best_score`"
   ]
  },
  {
   "cell_type": "markdown",
   "metadata": {},
   "source": [
    "Following the execution of the `show_all` function, a DataFrame is generated containing scoring metric results sorted alphabetically by model names. The `display_best_score` function within autopredictor plays a crucial role in this accelerated workflow. It simplifies the complex process of determining the optimal model by swiftly identifying the best-performing one based on a specified regression scoring metric."
   ]
  },
  {
   "cell_type": "markdown",
   "metadata": {},
   "source": [
    "**Selecting the best model based on the scoring metric MSE:**"
   ]
  },
  {
   "cell_type": "code",
   "execution_count": 9,
   "metadata": {},
   "outputs": [
    {
     "name": "stdout",
     "output_type": "stream",
     "text": [
      "|                               |     MSE |\n",
      "|-------------------------------|---------|\n",
      "| Linear Support Vector Machine | 8222.79 |\n"
     ]
    },
    {
     "data": {
      "text/html": [
       "<div>\n",
       "<style scoped>\n",
       "    .dataframe tbody tr th:only-of-type {\n",
       "        vertical-align: middle;\n",
       "    }\n",
       "\n",
       "    .dataframe tbody tr th {\n",
       "        vertical-align: top;\n",
       "    }\n",
       "\n",
       "    .dataframe thead th {\n",
       "        text-align: right;\n",
       "    }\n",
       "</style>\n",
       "<table border=\"1\" class=\"dataframe\">\n",
       "  <thead>\n",
       "    <tr style=\"text-align: right;\">\n",
       "      <th></th>\n",
       "      <th>MSE</th>\n",
       "    </tr>\n",
       "  </thead>\n",
       "  <tbody>\n",
       "    <tr>\n",
       "      <th>Linear Support Vector Machine</th>\n",
       "      <td>8222.78506</td>\n",
       "    </tr>\n",
       "  </tbody>\n",
       "</table>\n",
       "</div>"
      ],
      "text/plain": [
       "                                      MSE\n",
       "Linear Support Vector Machine  8222.78506"
      ]
     },
     "execution_count": 9,
     "metadata": {},
     "output_type": "execute_result"
    }
   ],
   "source": [
    "display_best_score(scores_train,'MSE') # Based on Training Set"
   ]
  },
  {
   "cell_type": "code",
   "execution_count": 10,
   "metadata": {},
   "outputs": [
    {
     "name": "stdout",
     "output_type": "stream",
     "text": [
      "|                               |     MSE |\n",
      "|-------------------------------|---------|\n",
      "| Linear Support Vector Machine | 6774.21 |\n"
     ]
    },
    {
     "data": {
      "text/html": [
       "<div>\n",
       "<style scoped>\n",
       "    .dataframe tbody tr th:only-of-type {\n",
       "        vertical-align: middle;\n",
       "    }\n",
       "\n",
       "    .dataframe tbody tr th {\n",
       "        vertical-align: top;\n",
       "    }\n",
       "\n",
       "    .dataframe thead th {\n",
       "        text-align: right;\n",
       "    }\n",
       "</style>\n",
       "<table border=\"1\" class=\"dataframe\">\n",
       "  <thead>\n",
       "    <tr style=\"text-align: right;\">\n",
       "      <th></th>\n",
       "      <th>MSE</th>\n",
       "    </tr>\n",
       "  </thead>\n",
       "  <tbody>\n",
       "    <tr>\n",
       "      <th>Linear Support Vector Machine</th>\n",
       "      <td>6774.205513</td>\n",
       "    </tr>\n",
       "  </tbody>\n",
       "</table>\n",
       "</div>"
      ],
      "text/plain": [
       "                                       MSE\n",
       "Linear Support Vector Machine  6774.205513"
      ]
     },
     "execution_count": 10,
     "metadata": {},
     "output_type": "execute_result"
    }
   ],
   "source": [
    "display_best_score(scores_test,'MSE') # Based on Test Set"
   ]
  },
  {
   "cell_type": "markdown",
   "metadata": {},
   "source": [
    "The `display_best_score` function ranks models based on a chosen scoring metric. For metrics like `MAE`, `MAPE`, `MSE`, and `RMSE`, where lower values indicate better model performance, the function identifies the model with the minimum value. In contrast, for the `R2` metric, where a higher value (closer to 1) indicates a better fit, the function selects the model with the maximum `R2` value. This approach ensures that the best model is selected based on the most appropriate metric for your specific analysis needs."
   ]
  },
  {
   "cell_type": "markdown",
   "metadata": {},
   "source": [
    "**Selecting the best model based on the scoring metric R2:**"
   ]
  },
  {
   "cell_type": "code",
   "execution_count": 11,
   "metadata": {},
   "outputs": [
    {
     "name": "stdout",
     "output_type": "stream",
     "text": [
      "|               |   R2 |\n",
      "|---------------|------|\n",
      "| Decision Tree |    1 |\n"
     ]
    },
    {
     "data": {
      "text/html": [
       "<div>\n",
       "<style scoped>\n",
       "    .dataframe tbody tr th:only-of-type {\n",
       "        vertical-align: middle;\n",
       "    }\n",
       "\n",
       "    .dataframe tbody tr th {\n",
       "        vertical-align: top;\n",
       "    }\n",
       "\n",
       "    .dataframe thead th {\n",
       "        text-align: right;\n",
       "    }\n",
       "</style>\n",
       "<table border=\"1\" class=\"dataframe\">\n",
       "  <thead>\n",
       "    <tr style=\"text-align: right;\">\n",
       "      <th></th>\n",
       "      <th>R2</th>\n",
       "    </tr>\n",
       "  </thead>\n",
       "  <tbody>\n",
       "    <tr>\n",
       "      <th>Decision Tree</th>\n",
       "      <td>1.0</td>\n",
       "    </tr>\n",
       "  </tbody>\n",
       "</table>\n",
       "</div>"
      ],
      "text/plain": [
       "                R2\n",
       "Decision Tree  1.0"
      ]
     },
     "execution_count": 11,
     "metadata": {},
     "output_type": "execute_result"
    }
   ],
   "source": [
    "display_best_score(scores_train,'R2') # Based on Training Set"
   ]
  },
  {
   "cell_type": "code",
   "execution_count": 12,
   "metadata": {},
   "outputs": [
    {
     "name": "stdout",
     "output_type": "stream",
     "text": [
      "|                   |       R2 |\n",
      "|-------------------|----------|\n",
      "| Gradient Boosting | 0.453681 |\n"
     ]
    },
    {
     "data": {
      "text/html": [
       "<div>\n",
       "<style scoped>\n",
       "    .dataframe tbody tr th:only-of-type {\n",
       "        vertical-align: middle;\n",
       "    }\n",
       "\n",
       "    .dataframe tbody tr th {\n",
       "        vertical-align: top;\n",
       "    }\n",
       "\n",
       "    .dataframe thead th {\n",
       "        text-align: right;\n",
       "    }\n",
       "</style>\n",
       "<table border=\"1\" class=\"dataframe\">\n",
       "  <thead>\n",
       "    <tr style=\"text-align: right;\">\n",
       "      <th></th>\n",
       "      <th>R2</th>\n",
       "    </tr>\n",
       "  </thead>\n",
       "  <tbody>\n",
       "    <tr>\n",
       "      <th>Gradient Boosting</th>\n",
       "      <td>0.453681</td>\n",
       "    </tr>\n",
       "  </tbody>\n",
       "</table>\n",
       "</div>"
      ],
      "text/plain": [
       "                         R2\n",
       "Gradient Boosting  0.453681"
      ]
     },
     "execution_count": 12,
     "metadata": {},
     "output_type": "execute_result"
    }
   ],
   "source": [
    "display_best_score(scores_test,'R2') # Based on Test Set"
   ]
  },
  {
   "cell_type": "markdown",
   "metadata": {},
   "source": [
    "In the context of the diabetes dataset, `display_best_score` swiftly identifies the most effective model, like a Random Forest or Support Vector Machine, for predicting diabetes progression, using a specified scoring metric. This feature is crucial for researchers and data scientists, allowing them to choose the most suitable model based on their specific needs. This flexibility is essential in healthcare and other fields where the choice of metric significantly impacts research outcomes and real-world applications."
   ]
  },
  {
   "cell_type": "markdown",
   "metadata": {},
   "source": [
    "### Error Prevention and troubleshooting in `display_best_score` Function\n",
    "Here are some refined strategies to boost error prevention and troubleshooting in the `display_best_score` function:\n",
    "\n",
    "__Input Type Check:__ Prior to utilizing the `display_best_score` function, validate that the input result is a DataFrame. Passing any other data type will raise a `TypeError`.\n",
    "\n",
    "__Empty DataFrame:__ Ensure that the DataFrame provided as an argument contains at least one model's scoring metrics. Attempting to use an empty DataFrame will result in a `TypeError`.\n",
    "\n",
    "__Valid Scoring Metrics:__ Verify that the scoring metrics provided are both valid and comprehensive. If an invalid scoring metric is passed or if the DataFrame lacks essential metrics, a `ValueError` will be raised.\n",
    "\n",
    "Users can improve their usage of the `display_best_score` function by adhering to these guidelines, which helps in minimizing the chance of encountering errors during its application. "
   ]
  },
  {
   "cell_type": "markdown",
   "metadata": {},
   "source": [
    "## Inspecting a specific model with `select_model`"
   ]
  },
  {
   "cell_type": "markdown",
   "metadata": {},
   "source": [
    "Following the execution of the `show_all`, the `select_model` function allows the user to select a specific model from the DataFrame and view its performance metrics. If the model is found to be present in the DataFrame, it returns the performance metrics for that model; otherwise, it provides a list of available models. This function is particularly useful for zooming in on a specific model's performance or for retrieving the performance of the best model based on a particular metric.\n",
    "\n",
    "In the context of a diabetes dataset, for instance, if an analyst suspects that a certain model, like a Random Forest Regressor, might be particularly well-suited to handling the complexities of diabetes data (due to its ability to model non-linear relationships and interactions between variables), the `select_model` function allows them to isolate and closely examine the performance of just this model. This is especially useful in situations where a multitude of models have been trained and evaluated, and there's a need to drill down into the specifics of one model without getting overwhelmed by the broader data."
   ]
  },
  {
   "cell_type": "markdown",
   "metadata": {},
   "source": [
    "**Viewing Random Forest model performance on dataset**"
   ]
  },
  {
   "cell_type": "code",
   "execution_count": 13,
   "metadata": {},
   "outputs": [
    {
     "data": {
      "text/html": [
       "<div>\n",
       "<style scoped>\n",
       "    .dataframe tbody tr th:only-of-type {\n",
       "        vertical-align: middle;\n",
       "    }\n",
       "\n",
       "    .dataframe tbody tr th {\n",
       "        vertical-align: top;\n",
       "    }\n",
       "\n",
       "    .dataframe thead th {\n",
       "        text-align: right;\n",
       "    }\n",
       "</style>\n",
       "<table border=\"1\" class=\"dataframe\">\n",
       "  <thead>\n",
       "    <tr style=\"text-align: right;\">\n",
       "      <th></th>\n",
       "      <th>MAE</th>\n",
       "      <th>MAPE</th>\n",
       "      <th>R2</th>\n",
       "      <th>MSE</th>\n",
       "      <th>RMSE</th>\n",
       "    </tr>\n",
       "  </thead>\n",
       "  <tbody>\n",
       "    <tr>\n",
       "      <th>Random Forest</th>\n",
       "      <td>44.063258</td>\n",
       "      <td>0.39768</td>\n",
       "      <td>0.432294</td>\n",
       "      <td>3007.795078</td>\n",
       "      <td>54.843369</td>\n",
       "    </tr>\n",
       "  </tbody>\n",
       "</table>\n",
       "</div>"
      ],
      "text/plain": [
       "                     MAE     MAPE        R2          MSE       RMSE\n",
       "Random Forest  44.063258  0.39768  0.432294  3007.795078  54.843369"
      ]
     },
     "execution_count": 13,
     "metadata": {},
     "output_type": "execute_result"
    }
   ],
   "source": [
    "select_model(scores_test, 'Random Forest')"
   ]
  },
  {
   "cell_type": "markdown",
   "metadata": {},
   "source": [
    "Expanding beyond healthcare, this function has broad applicability in various fields. For example, in finance, an analyst might want to specifically evaluate the performance of a particular model in predicting stock prices or market trends. Similarly, in environmental science, a researcher could use this function to singularly assess a model's accuracy in forecasting climate patterns or pollution levels.\n",
    "\n",
    "The ability to selectively examine a model is crucial when comparing models that might have different strengths and weaknesses depending on the context. This targeted approach enables a more thoughtful and focused analysis, allowing analysts to make more informed decisions about which model to deploy based on specific criteria relevant to their field or problem at hand. It's a tool that enhances precision in model selection."
   ]
  },
  {
   "cell_type": "markdown",
   "metadata": {},
   "source": [
    "**Viewing Linear Regression model performance on dataset**"
   ]
  },
  {
   "cell_type": "code",
   "execution_count": 14,
   "metadata": {},
   "outputs": [
    {
     "data": {
      "text/html": [
       "<div>\n",
       "<style scoped>\n",
       "    .dataframe tbody tr th:only-of-type {\n",
       "        vertical-align: middle;\n",
       "    }\n",
       "\n",
       "    .dataframe tbody tr th {\n",
       "        vertical-align: top;\n",
       "    }\n",
       "\n",
       "    .dataframe thead th {\n",
       "        text-align: right;\n",
       "    }\n",
       "</style>\n",
       "<table border=\"1\" class=\"dataframe\">\n",
       "  <thead>\n",
       "    <tr style=\"text-align: right;\">\n",
       "      <th></th>\n",
       "      <th>MAE</th>\n",
       "      <th>MAPE</th>\n",
       "      <th>R2</th>\n",
       "      <th>MSE</th>\n",
       "      <th>RMSE</th>\n",
       "    </tr>\n",
       "  </thead>\n",
       "  <tbody>\n",
       "    <tr>\n",
       "      <th>Linear Regression</th>\n",
       "      <td>43.483504</td>\n",
       "      <td>0.389199</td>\n",
       "      <td>0.527919</td>\n",
       "      <td>2868.549703</td>\n",
       "      <td>53.558843</td>\n",
       "    </tr>\n",
       "  </tbody>\n",
       "</table>\n",
       "</div>"
      ],
      "text/plain": [
       "                         MAE      MAPE        R2          MSE       RMSE\n",
       "Linear Regression  43.483504  0.389199  0.527919  2868.549703  53.558843"
      ]
     },
     "execution_count": 14,
     "metadata": {},
     "output_type": "execute_result"
    }
   ],
   "source": [
    "select_model(scores_train, 'Linear Regression')"
   ]
  },
  {
   "cell_type": "markdown",
   "metadata": {},
   "source": [
    "### Error prevention in `select_model`"
   ]
  },
  {
   "cell_type": "markdown",
   "metadata": {},
   "source": [
    "For a seamless and trouble-free experience, be sure to adhere to these tips:\n",
    "\n",
    "__Input Type Check:__ Similar to `display_best_score`, before employing the `select_model` function, ensure that the input result is a DataFrame. Passing any other data type will raise a `TypeError`.\n",
    "\n",
    "__Empty DataFrame:__ Make sure that the DataFrame provided contains at least one model and its respective scoring metrics. Attempting to use an empty DataFrame will result in a `TypeError`.\n",
    "\n",
    "The `select_model` function is not only beneficial for focusing on a specific model's performance but also serves as a useful tool for verifying the presence of a model within the dataset. When an analyst specifies a model, the function checks if that model is included in the DataFrame's index. If the model is not found, the function doesn't just stop at returning an error message; it goes a step further by providing a list of the models that are included. This feature is particularly helpful in multiple ways:\n",
    "\n",
    "- __Model Inventory Check:__ It essentially acts as a quick inventory check, allowing users to confirm which models have been trained and evaluated. This is especially useful in collaborative environments where multiple team members might be working on the same dataset but focusing on different models. It ensures that everyone is aware of the models that are already included in the analysis, helping to avoid redundant work.\n",
    "\n",
    "- __Informed Decision Making:__ By providing a list of available models, it aids in informed decision-making. Analysts can quickly scan through the available models and decide which ones to focus on based on their specific criteria or hypothesis, without having to look through the entire DataFrame."
   ]
  },
  {
   "cell_type": "code",
   "execution_count": 15,
   "metadata": {},
   "outputs": [
    {
     "data": {
      "text/plain": [
       "\"Model 'Other Regressor' not found. Here is the list of the models available: AdaBoost, Decision Tree, Gradient Boosting, Linear Regression, Linear Regression (L1), Linear Regression (L2), Linear Support Vector Machine, Random Forest, Support Vector Machine.\""
      ]
     },
     "execution_count": 15,
     "metadata": {},
     "output_type": "execute_result"
    }
   ],
   "source": [
    "selected_model_name = 'Other Regressor'\n",
    "select_model(scores_test, selected_model_name)"
   ]
  },
  {
   "cell_type": "markdown",
   "metadata": {},
   "source": [
    "For example, in a real-life scenario, an environmental scientist analyzing a dataset on air quality might be interested in examining a specific model's ability to predict pollution levels. If they aren't sure whether the model has been included in the analysis, they can use the `select_model` function. If the model is not found, the function's feedback not only informs them of this but also shows which models are available, allowing the scientist to make an informed decision on whether to proceed with an available trained model or to train and evaluate the model of interest."
   ]
  },
  {
   "cell_type": "markdown",
   "metadata": {},
   "source": [
    "## Conclusion"
   ]
  },
  {
   "cell_type": "markdown",
   "metadata": {},
   "source": [
    "The autopredictor package offers a streamlined approach to model training, evaluation, and selection, making it an indispensable tool in fields where accuracy is crucial. It facilitates the training and evaluation of a diverse array of models, provides a detailed array of performance metrics for thorough assessment, and ensures a clear, user-friendly presentation of results, aiding in the informed selection of the most effective model. Its robust functionality allow for an efficient workflow, catering to both all levels of data scientists and professionals in various domains. Whether it's healthcare, finance, or environmental science, autopredictor simplifies the complex task of model selection, empowering users to make informed, data-driven decisions."
   ]
  },
  {
   "cell_type": "markdown",
   "metadata": {},
   "source": [
    "## Best practices"
   ]
  },
  {
   "cell_type": "markdown",
   "metadata": {},
   "source": [
    "- It is better to always split your dataset into training and testing sets to evaluate model performance.\n",
    "- Consider the specific problem and dataset characteristics when choosing a regression model.\n",
    "- Regularly check for updates to the autopredictor package for improved functionality and bug fixes."
   ]
  },
  {
   "cell_type": "markdown",
   "metadata": {},
   "source": [
    "## References "
   ]
  },
  {
   "cell_type": "markdown",
   "metadata": {},
   "source": [
    "- Pandala, S. R. (2022). LazyPredict. Retrived from https://pypi.org/project/lazypredict/"
   ]
  },
  {
   "cell_type": "markdown",
   "metadata": {},
   "source": [
    "## Credits"
   ]
  },
  {
   "cell_type": "markdown",
   "metadata": {},
   "source": [
    "- `autopredictor` was created with [`cookiecutter`](https://cookiecutter.readthedocs.io/en/latest/) and the `py-pkgs-cookiecutter` [template](https://github.com/py-pkgs/py-pkgs-cookiecutter)."
   ]
  }
 ],
 "metadata": {
  "kernelspec": {
   "display_name": "Python 3 (ipykernel)",
   "language": "python",
   "name": "python3"
  },
  "language_info": {
   "codemirror_mode": {
    "name": "ipython",
    "version": 3
   },
   "file_extension": ".py",
   "mimetype": "text/x-python",
   "name": "python",
   "nbconvert_exporter": "python",
   "pygments_lexer": "ipython3",
   "version": "3.11.4"
  }
 },
 "nbformat": 4,
 "nbformat_minor": 4
}
