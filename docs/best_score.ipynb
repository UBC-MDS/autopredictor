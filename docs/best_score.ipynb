{
 "cells": [
  {
   "cell_type": "markdown",
   "id": "37f4fa53-8440-4557-a5d8-b44a9c5354ed",
   "metadata": {},
   "source": [
    "## Displaying best score for specific metric\n",
    "\n",
    "Following the execution of the `show_all` function, a DataFrame is generated containing scoring metric results sorted alphabetically by model names. The `display_best_score` function within autopredictor plays a crucial role in this accelerated workflow. It simplifies the complex process of determining the optimal model by swiftly identifying the best-performing one based on a specified regression scoring metric."
   ]
  },
  {
   "cell_type": "code",
   "execution_count": null,
   "id": "4a0266e0-7990-49a4-9dad-44b0902548ea",
   "metadata": {},
   "outputs": [],
   "source": [
    "display_best_score(scores_train,'MSE')"
   ]
  },
  {
   "cell_type": "code",
   "execution_count": null,
   "id": "6a7b1846-6848-4c5e-80e3-5926849a643f",
   "metadata": {},
   "outputs": [],
   "source": [
    "display_best_score(scores_test,'MSE')"
   ]
  },
  {
   "cell_type": "markdown",
   "id": "1fd2877a-4be9-4063-8179-e58250676309",
   "metadata": {},
   "source": [
    "## Error Prevention and troubleshooting in `display_best_score` Function\n",
    "\n",
    "__Input Type Check:__ Prior to utilizing the `display_best_score` function, validate that the input result is a DataFrame. Passing any other data type will raise a `TypeError`.\n",
    "\n",
    "__Empty DataFrame:__ Ensure that the DataFrame provided as an argument contains at least one model's scoring metrics. Attempting to use an empty DataFrame will result in a `TypeError`.\n",
    "\n",
    "__Valid Scoring Metrics:__ Verify that the scoring metrics provided are both valid and comprehensive. If an invalid scoring metric is passed or if the DataFrame lacks essential metrics, a `ValueError` will be raised.\n",
    "\n",
    "Users can improve their usage of the `display_best_score` function by adhering to these guidelines, which helps in minimizing the chance of encountering errors during its application. "
   ]
  },
  {
   "cell_type": "code",
   "execution_count": null,
   "id": "bc9e9508-4138-4084-bd31-6f3106efebf3",
   "metadata": {},
   "outputs": [],
   "source": []
  }
 ],
 "metadata": {
  "kernelspec": {
   "display_name": "Python 3 (ipykernel)",
   "language": "python",
   "name": "python3"
  },
  "language_info": {
   "codemirror_mode": {
    "name": "ipython",
    "version": 3
   },
   "file_extension": ".py",
   "mimetype": "text/x-python",
   "name": "python",
   "nbconvert_exporter": "python",
   "pygments_lexer": "ipython3",
   "version": "3.11.4"
  }
 },
 "nbformat": 4,
 "nbformat_minor": 5
}
